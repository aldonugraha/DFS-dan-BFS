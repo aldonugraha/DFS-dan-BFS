{
  "nbformat": 4,
  "nbformat_minor": 0,
  "metadata": {
    "colab": {
      "name": "Tugas DFS dan BFS.ipynb",
      "provenance": [],
      "include_colab_link": true
    },
    "kernelspec": {
      "name": "python3",
      "display_name": "Python 3"
    }
  },
  "cells": [
    {
      "cell_type": "markdown",
      "metadata": {
        "id": "view-in-github",
        "colab_type": "text"
      },
      "source": [
        "<a href=\"https://colab.research.google.com/github/aldonugraha/DFS-dan-BFS/blob/main/Tugas_DFS_dan_BFS.ipynb\" target=\"_parent\"><img src=\"https://colab.research.google.com/assets/colab-badge.svg\" alt=\"Open In Colab\"/></a>"
      ]
    },
    {
      "cell_type": "markdown",
      "metadata": {
        "id": "lBUOHhR0xduH"
      },
      "source": [
        "Keterangan Kota pada dataset :\n",
        "A=Subang\n",
        "B=Bandung\n",
        "C=Cimahi\n",
        "D=Lembang\n",
        "E=Purwakarta\n",
        "F=Karawang\n",
        "G=Garut\n",
        "H=Sumedang\n",
        "I=Indramayu\n",
        "J=Jakarta\n",
        "K=Kuningan\n",
        "L=Bogor\n",
        "M=Majalengka"
      ]
    },
    {
      "cell_type": "code",
      "metadata": {
        "id": "TU_BMNTFzPif",
        "colab": {
          "base_uri": "https://localhost:8080/"
        },
        "outputId": "40fb8622-29a5-4afa-d6fc-8beac018b16d"
      },
      "source": [
        "from google.colab import drive\n",
        "drive.mount('/content/drive')"
      ],
      "execution_count": 16,
      "outputs": [
        {
          "output_type": "stream",
          "name": "stdout",
          "text": [
            "Drive already mounted at /content/drive; to attempt to forcibly remount, call drive.mount(\"/content/drive\", force_remount=True).\n"
          ]
        }
      ]
    },
    {
      "cell_type": "markdown",
      "metadata": {
        "id": "G-IU5_s4A53g"
      },
      "source": [
        "# **Persiapan dan Input Data**"
      ]
    },
    {
      "cell_type": "code",
      "metadata": {
        "id": "PKwOLpEi09Ar",
        "colab": {
          "base_uri": "https://localhost:8080/"
        },
        "outputId": "b9346b15-c870-4b87-d41d-80b988f2211b"
      },
      "source": [
        "#Melakukan input data\n",
        "list1 = []\n",
        "list2 = []\n",
        "with open('/content/drive/MyDrive/Sistem cerdas/Fix datase.txt') as fp:\n",
        "  text = fp.readlines()\n",
        "  for ele in text:\n",
        "    list1.append(ele.strip())\n",
        "  for i in list1:\n",
        "    i2 = str(i).replace(\" \",\"\")\n",
        "    list2.append(i2)\n",
        "print(list2)\n",
        "  "
      ],
      "execution_count": 67,
      "outputs": [
        {
          "output_type": "stream",
          "name": "stdout",
          "text": [
            "['ABCDE', 'BAF', 'FBJ', 'JFK', 'CAG', 'GCHK', 'KGJ', 'DAH', 'HDGL', 'LH', 'EAI', 'IEM', 'MI']\n"
          ]
        }
      ]
    },
    {
      "cell_type": "code",
      "metadata": {
        "id": "w05H-zePrFtT",
        "colab": {
          "base_uri": "https://localhost:8080/"
        },
        "outputId": "845397f5-bda0-46ad-d8f6-3436441a34be"
      },
      "source": [
        "#Ubah inputan pada direktori\n",
        "graph = {}\n",
        "dct_item = []\n",
        "dct_key = [] \n",
        "for ele in list2:\n",
        "  dct_item.append(list(ele[1:]))\n",
        "  dct_key.append(ele[0])\n",
        "graph = dict(zip(dct_key, dct_item))\n",
        "print(graph)"
      ],
      "execution_count": 68,
      "outputs": [
        {
          "output_type": "stream",
          "name": "stdout",
          "text": [
            "{'A': ['B', 'C', 'D', 'E'], 'B': ['A', 'F'], 'F': ['B', 'J'], 'J': ['F', 'K'], 'C': ['A', 'G'], 'G': ['C', 'H', 'K'], 'K': ['G', 'J'], 'D': ['A', 'H'], 'H': ['D', 'G', 'L'], 'L': ['H'], 'E': ['A', 'I'], 'I': ['E', 'M'], 'M': ['I']}\n"
          ]
        }
      ]
    },
    {
      "cell_type": "code",
      "metadata": {
        "id": "nXYMtFU9Ad_B",
        "colab": {
          "base_uri": "https://localhost:8080/"
        },
        "outputId": "357274d5-7e8e-4d8b-ea57-f479204fd6ef"
      },
      "source": [
        "start = input('Masukan inisial kota awal: ')\n",
        "end = input('Masukan isial kota tujuan: ')\n",
        "start = start.upper()\n",
        "end = end.upper()"
      ],
      "execution_count": 69,
      "outputs": [
        {
          "name": "stdout",
          "output_type": "stream",
          "text": [
            "Masukan inisial kota awal: B\n",
            "Masukan isial kota tujuan: A\n"
          ]
        }
      ]
    },
    {
      "cell_type": "markdown",
      "metadata": {
        "id": "42cq5W-g8IEx"
      },
      "source": [
        "# Breadth First Search"
      ]
    },
    {
      "cell_type": "code",
      "metadata": {
        "id": "pjY8ShkITOQR",
        "colab": {
          "base_uri": "https://localhost:8080/"
        },
        "outputId": "3bf628a5-87ca-4cb6-8cbf-a39fc90b0264"
      },
      "source": [
        "#Mencari dan memperluas node\n",
        "visited_bfs = [] #List variabel pada node yg telah dikunjungi.\n",
        "queue_bfs = []     #Inisialisasi Antrian\n",
        "\n",
        "def bfs(visited, graph, node):\n",
        "  visited_bfs.append(node)\n",
        "  queue_bfs.append(node)\n",
        "  while queue_bfs:\n",
        "    s = queue_bfs.pop(0) \n",
        "    print (s,\" \", end = \"\") \n",
        " \n",
        "    if s == end:\n",
        "      break\n",
        "    for neighbour in graph[s]:\n",
        "      if neighbour not in visited_bfs:\n",
        "        visited_bfs.append(neighbour)\n",
        "        queue_bfs.append(neighbour)\n",
        "\n",
        "print(\"Expand: \", end=\"\")\n",
        "bfs(visited_bfs, graph, start) "
      ],
      "execution_count": 70,
      "outputs": [
        {
          "output_type": "stream",
          "name": "stdout",
          "text": [
            "Expand: B  A  "
          ]
        }
      ]
    },
    {
      "cell_type": "code",
      "metadata": {
        "id": "q9WghjMeYV8C",
        "colab": {
          "base_uri": "https://localhost:8080/"
        },
        "outputId": "37de9914-eb66-4722-e9df-489e53c5ee04"
      },
      "source": [
        "#Temukan jalur perpendek\n",
        "def shortestbfs(graph, start, end):\n",
        "   \n",
        "    queue_bfs = []\n",
        "    queue_bfs.append([start])\n",
        "    while queue_bfs:\n",
        "        path = queue_bfs.pop(0)\n",
        "        node = path[-1]\n",
        "\n",
        "        if node == end:\n",
        "            return path\n",
        "        \n",
        "        for adjacent in graph.get(node, []):\n",
        "            new_path = list(path)\n",
        "            new_path.append(adjacent)\n",
        "            queue_bfs.append(new_path)\n",
        "\n",
        "print(\"Path: \", shortestbfs(graph, start, end))"
      ],
      "execution_count": 71,
      "outputs": [
        {
          "output_type": "stream",
          "name": "stdout",
          "text": [
            "Path:  ['B', 'A']\n"
          ]
        }
      ]
    },
    {
      "cell_type": "code",
      "metadata": {
        "id": "mKvKXdjYSfGR",
        "colab": {
          "base_uri": "https://localhost:8080/",
          "height": 319
        },
        "outputId": "32d16b5c-2aca-4002-e50f-4a5bab18c928"
      },
      "source": [
        "#Membuat gambar grafik\n",
        "import pandas as pd\n",
        "import numpy as np\n",
        "import networkx as nx\n",
        "import matplotlib.pyplot as plt\n",
        "\n",
        "bfs_value_list = []\n",
        "bfs_key_list = []\n",
        "j = 0\n",
        "\n",
        "for key, value in graph.items():\n",
        "  i = 0\n",
        "  if len(value) > 1:\n",
        "    while i < len(value):\n",
        "      bfs_key_list.append(key)\n",
        "      i = i + 1\n",
        "  else:\n",
        "    bfs_key_list.append(key)\n",
        "#Tampilkan list kunci\n",
        "\n",
        "for key, value in graph.items():\n",
        "  for i in value:\n",
        "    #Tampilkan nilai i\n",
        "    bfs_value_list.append(i)\n",
        "\n",
        "#Tampilkan list nilai\n",
        "\n",
        "df = pd.DataFrame({'from': bfs_key_list, 'to': bfs_value_list})\n",
        "\n",
        "# Buat grap\n",
        "G = nx.from_pandas_edgelist(df, 'from', 'to')\n",
        "\n",
        "nx.draw(G, with_labels=True)\n",
        "plt.show()"
      ],
      "execution_count": 72,
      "outputs": [
        {
          "output_type": "display_data",
          "data": {
            "image/png": "[encoded data removed]",
            "text/plain": [
              "<Figure size 432x288 with 1 Axes>"
            ]
          },
          "metadata": {}
        }
      ]
    },
    {
      "cell_type": "markdown",
      "metadata": {
        "id": "nGJ2MUUe8MRE"
      },
      "source": [
        "# Depth First Search"
      ]
    },
    {
      "cell_type": "code",
      "metadata": {
        "id": "SMQ2QlLOlgDc",
        "colab": {
          "base_uri": "https://localhost:8080/"
        },
        "outputId": "43cd2434-53f8-44b4-cb92-8e75cc51f4f5"
      },
      "source": [
        "#Mencari dan memperluas node\n",
        "visited = set() # Pengaturan untuk melacak node yg telah dikunjungi\n",
        "print ('Expand: ',end='')\n",
        "def dfs(visited, graph, node):\n",
        "    \n",
        "    if node not in visited:\n",
        "        print (node, sep=' ', end=' ')\n",
        "        visited.add(node)\n",
        "        for neighbour in graph[node]:\n",
        "            dfs(visited, graph, neighbour)\n",
        "            \n",
        "dfs(visited, graph, start)"
      ],
      "execution_count": 73,
      "outputs": [
        {
          "output_type": "stream",
          "name": "stdout",
          "text": [
            "Expand: B A C G H D L K J F E I M "
          ]
        }
      ]
    },
    {
      "cell_type": "code",
      "metadata": {
        "id": "WJ6WXqXy4oCP",
        "colab": {
          "base_uri": "https://localhost:8080/"
        },
        "outputId": "a1a57a0f-829b-4627-eea4-d2ace0365c23"
      },
      "source": [
        "#Temukan jalur perpendek\n",
        "print('Path: ', end='')\n",
        "paths = list(dfs_paths(graph, start, end))\n",
        "lens = []\n",
        "for i in list(dfs_paths(graph, start, end)):\n",
        "  lens.append(len(i))\n",
        "\n",
        "sorted(list(zip(lens, paths)))[0][1]"
      ],
      "execution_count": 74,
      "outputs": [
        {
          "output_type": "stream",
          "name": "stdout",
          "text": [
            "Path: "
          ]
        },
        {
          "output_type": "execute_result",
          "data": {
            "text/plain": [
              "['B', 'A']"
            ]
          },
          "metadata": {},
          "execution_count": 74
        }
      ]
    },
    {
      "cell_type": "code",
      "metadata": {
        "id": "6QyAWNf84mBQ",
        "colab": {
          "base_uri": "https://localhost:8080/"
        },
        "outputId": "ecfb7395-35a8-425e-81a9-127567f65bba"
      },
      "source": [
        "# DFS\n",
        "\n",
        "def dfs_paths(graph, start, goal, path=None):\n",
        "    if path is None:\n",
        "        path = [start]\n",
        "    if start == goal:\n",
        "        yield path\n",
        "    for next in set(graph[start]) - set(path):\n",
        "        yield from dfs_paths(graph, next, goal, path + [next])\n",
        "\n",
        "list(dfs_paths(graph, start, end))\n"
      ],
      "execution_count": 75,
      "outputs": [
        {
          "output_type": "execute_result",
          "data": {
            "text/plain": [
              "[['B', 'A'],\n",
              " ['B', 'F', 'J', 'K', 'G', 'H', 'D', 'A'],\n",
              " ['B', 'F', 'J', 'K', 'G', 'C', 'A']]"
            ]
          },
          "metadata": {},
          "execution_count": 75
        }
      ]
    },
    {
      "cell_type": "code",
      "metadata": {
        "id": "h99edUyw54F9"
      },
      "source": [
        ""
      ],
      "execution_count": null,
      "outputs": []
    }
  ]
}